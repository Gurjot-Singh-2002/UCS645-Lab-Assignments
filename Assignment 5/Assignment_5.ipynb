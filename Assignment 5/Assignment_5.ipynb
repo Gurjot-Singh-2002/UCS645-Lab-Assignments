{
  "nbformat": 4,
  "nbformat_minor": 0,
  "metadata": {
    "colab": {
      "provenance": [],
      "gpuType": "T4",
      "authorship_tag": "ABX9TyOhDQiYjOAkDfxVVsnyB1MC",
      "include_colab_link": true
    },
    "kernelspec": {
      "name": "python3",
      "display_name": "Python 3"
    },
    "language_info": {
      "name": "python"
    },
    "accelerator": "GPU"
  },
  "cells": [
    {
      "cell_type": "markdown",
      "metadata": {
        "id": "view-in-github",
        "colab_type": "text"
      },
      "source": [
        "<a href=\"https://colab.research.google.com/github/Gurjot-Singh-2002/UCS645-Lab-Assignments/blob/main/Assignment%205/Assignment_5.ipynb\" target=\"_parent\"><img src=\"https://colab.research.google.com/assets/colab-badge.svg\" alt=\"Open In Colab\"/></a>"
      ]
    },
    {
      "cell_type": "markdown",
      "source": [
        "#Gurjot Singh 102203582 3CO14"
      ],
      "metadata": {
        "id": "Kntu1G_AkaiS"
      }
    },
    {
      "cell_type": "markdown",
      "source": [
        "# Program 1"
      ],
      "metadata": {
        "id": "ntX3XcYnjLO8"
      }
    },
    {
      "cell_type": "code",
      "execution_count": 1,
      "metadata": {
        "colab": {
          "base_uri": "https://localhost:8080/"
        },
        "id": "RZZ6OCmfiRLK",
        "outputId": "4ff28530-5dd2-4340-a647-ede2739b2dc8"
      },
      "outputs": [
        {
          "output_type": "stream",
          "name": "stdout",
          "text": [
            "Writing vector_add.cu\n"
          ]
        }
      ],
      "source": [
        "%%writefile vector_add.cu\n",
        "#include <stdio.h>\n",
        "#include <cuda.h>\n",
        "\n",
        "#define N 1024  // Size of vectors\n",
        "\n",
        "// Declare vectors in unified memory (accessible from host and device)\n",
        "__device__ __managed__ float A[N], B[N], C[N];\n",
        "\n",
        "// CUDA kernel for vector addition\n",
        "__global__ void vectorAdd() {\n",
        "    int i = threadIdx.x + blockIdx.x * blockDim.x;  // Global thread ID\n",
        "    if (i < N)\n",
        "        C[i] = A[i] + B[i];  // Perform element-wise addition\n",
        "}\n",
        "\n",
        "// CUDA error checker utility\n",
        "void check(cudaError_t err, const char *msg) {\n",
        "    if (err != cudaSuccess) {\n",
        "        printf(\"CUDA error %s: %s\\n\", msg, cudaGetErrorString(err));\n",
        "        exit(EXIT_FAILURE);\n",
        "    }\n",
        "}\n",
        "\n",
        "int main() {\n",
        "    // Initialize vectors A and B on the host\n",
        "    for (int i = 0; i < N; ++i) {\n",
        "        A[i] = i * 1.0f;\n",
        "        B[i] = i * 2.0f;\n",
        "    }\n",
        "\n",
        "    // Create CUDA events for timing\n",
        "    cudaEvent_t start, stop;\n",
        "    float time_ms = 0;\n",
        "    cudaEventCreate(&start);\n",
        "    cudaEventCreate(&stop);\n",
        "    cudaEventRecord(start);  // Start timing\n",
        "\n",
        "    // Launch vector addition kernel\n",
        "    int threadsPerBlock = 256;\n",
        "    int blocksPerGrid = (N + threadsPerBlock - 1) / threadsPerBlock;\n",
        "    vectorAdd<<<blocksPerGrid, threadsPerBlock>>>();  // Launch GPU kernel\n",
        "    check(cudaGetLastError(), \"Kernel launch\");\n",
        "\n",
        "    // Stop timing\n",
        "    cudaEventRecord(stop);\n",
        "    cudaEventSynchronize(stop);\n",
        "    cudaEventElapsedTime(&time_ms, start, stop);  // Calculate elapsed time in ms\n",
        "\n",
        "    // Display first 5 elements of the result vector\n",
        "    printf(\"C = [\");\n",
        "    for (int i = 0; i < 5; ++i) printf(\"%.1f \", C[i]);\n",
        "    printf(\"...]\\n\");\n",
        "\n",
        "    // Query device properties for theoretical bandwidth calculation\n",
        "    cudaDeviceProp prop;\n",
        "    cudaGetDeviceProperties(&prop, 0);\n",
        "\n",
        "    float memClock = prop.memoryClockRate * 1e3;   // Convert to Hz\n",
        "    float busWidth = prop.memoryBusWidth;          // In bits\n",
        "    float theoreticalBW = 2 * memClock * busWidth / 8 / 1e9; // GB/s (DDR hence x2)\n",
        "    printf(\"Theoretical Bandwidth: %.2f GB/s\\n\", theoreticalBW);\n",
        "\n",
        "    // Calculate actual bandwidth used by the kernel\n",
        "    float totalBytes = 2 * N * sizeof(float) + N * sizeof(float); // A and B read, C written\n",
        "    float measuredBW = totalBytes / (time_ms / 1000.0f) / 1e9;     // GB/s\n",
        "    printf(\"Measured Bandwidth: %.2f GB/s\\n\", measuredBW);\n",
        "    printf(\"Execution Time: %.4f ms\\n\", time_ms);\n",
        "\n",
        "    return 0;\n",
        "}\n"
      ]
    },
    {
      "cell_type": "markdown",
      "source": [
        "Program Compilation---"
      ],
      "metadata": {
        "id": "r5PrzeimjEqn"
      }
    },
    {
      "cell_type": "code",
      "source": [
        "!nvcc --gpu-architecture=sm_70 vector_add.cu -o vector_add"
      ],
      "metadata": {
        "id": "Bq4F8BEGi-Mn"
      },
      "execution_count": 2,
      "outputs": []
    },
    {
      "cell_type": "markdown",
      "source": [
        "Program Execution---"
      ],
      "metadata": {
        "id": "Kgv_5wt8jGgD"
      }
    },
    {
      "cell_type": "code",
      "source": [
        "!./vector_add"
      ],
      "metadata": {
        "colab": {
          "base_uri": "https://localhost:8080/"
        },
        "id": "OMl651bQi-KH",
        "outputId": "f0af2d15-c0ba-4af8-c726-5b252b43ba56"
      },
      "execution_count": 3,
      "outputs": [
        {
          "output_type": "stream",
          "name": "stdout",
          "text": [
            "C = [0.0 3.0 6.0 9.0 12.0 ...]\n",
            "Theoretical Bandwidth: 320.06 GB/s\n",
            "Measured Bandwidth: 0.01 GB/s\n",
            "Execution Time: 1.2886 ms\n"
          ]
        }
      ]
    }
  ]
}