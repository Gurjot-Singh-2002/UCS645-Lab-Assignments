{
  "nbformat": 4,
  "nbformat_minor": 0,
  "metadata": {
    "colab": {
      "provenance": [],
      "gpuType": "T4",
      "authorship_tag": "ABX9TyNNyNsZxq1mG+JAO1q90N4E",
      "include_colab_link": true
    },
    "kernelspec": {
      "name": "python3",
      "display_name": "Python 3"
    },
    "language_info": {
      "name": "python"
    },
    "accelerator": "GPU"
  },
  "cells": [
    {
      "cell_type": "markdown",
      "metadata": {
        "id": "view-in-github",
        "colab_type": "text"
      },
      "source": [
        "<a href=\"https://colab.research.google.com/github/Gurjot-Singh-2002/UCS645-Lab-Assignments/blob/main/Assignment%204/Assignment_4.ipynb\" target=\"_parent\"><img src=\"https://colab.research.google.com/assets/colab-badge.svg\" alt=\"Open In Colab\"/></a>"
      ]
    },
    {
      "cell_type": "markdown",
      "source": [
        "#Gurjot Singh 102203582 3CO14"
      ],
      "metadata": {
        "id": "M6dv3LC3kiaa"
      }
    },
    {
      "cell_type": "markdown",
      "source": [
        "#Program 1"
      ],
      "metadata": {
        "id": "0Eu5IzvP9Le1"
      }
    },
    {
      "cell_type": "code",
      "execution_count": 1,
      "metadata": {
        "id": "-iAAUCAO8-X7",
        "colab": {
          "base_uri": "https://localhost:8080/"
        },
        "outputId": "f24451e2-0339-4bd3-b840-b7b6f4b8906e"
      },
      "outputs": [
        {
          "output_type": "stream",
          "name": "stdout",
          "text": [
            "Writing sumofn.cu\n"
          ]
        }
      ],
      "source": [
        "%%writefile sumofn.cu\n",
        "#include <stdio.h>\n",
        "#include <cuda_runtime.h>\n",
        "\n",
        "#define N 1024  // Number of integers to sum\n",
        "\n",
        "// Kernel function where each thread performs a different task\n",
        "__global__ void sumKernel(int *input, int *output) {\n",
        "    int tid = threadIdx.x;  // Thread ID within the block\n",
        "\n",
        "    if (tid == 0) {\n",
        "        // Task A: Iterative Sum\n",
        "        int sum = 0;\n",
        "        for (int i = 0; i < N; i++) {\n",
        "            sum += input[i];  // Sum elements from input array\n",
        "        }\n",
        "        output[0] = sum;  // Store result in output[0]\n",
        "    }\n",
        "    else if (tid == 1) {\n",
        "        // Task B: Direct Formula Sum\n",
        "        output[1] = (N * (N - 1)) / 2;  // Using formula: n(n-1)/2\n",
        "    }\n",
        "}\n",
        "\n",
        "int main() {\n",
        "    int h_input[N], h_output[2] = {0};  // Host arrays\n",
        "\n",
        "    // Fill input array with first N integers: 0 to N-1\n",
        "    for (int i = 0; i < N; i++) {\n",
        "        h_input[i] = i;\n",
        "    }\n",
        "\n",
        "    int *d_input, *d_output;\n",
        "    cudaMalloc(&d_input, N * sizeof(int));        // Allocate memory on device\n",
        "    cudaMalloc(&d_output, 2 * sizeof(int));       // Output for both methods\n",
        "\n",
        "    cudaMemcpy(d_input, h_input, N * sizeof(int), cudaMemcpyHostToDevice);  // Copy input to device\n",
        "\n",
        "    // Timing using CUDA events\n",
        "    cudaEvent_t start, stop;\n",
        "    float milliseconds = 0;\n",
        "    cudaEventCreate(&start);\n",
        "    cudaEventCreate(&stop);\n",
        "\n",
        "    cudaEventRecord(start);  // Start recording time\n",
        "\n",
        "    // Launch kernel with 1 block and 2 threads (each does a different task)\n",
        "    sumKernel<<<1, 2>>>(d_input, d_output);\n",
        "\n",
        "    cudaEventRecord(stop);   // Stop recording time\n",
        "    cudaEventSynchronize(stop);\n",
        "    cudaEventElapsedTime(&milliseconds, start, stop);  // Calculate elapsed time\n",
        "\n",
        "    // Copy results back from device to host\n",
        "    cudaMemcpy(h_output, d_output, 2 * sizeof(int), cudaMemcpyDeviceToHost);\n",
        "\n",
        "    // Print both results\n",
        "    printf(\"Sum using Iteration (Thread 0): %d\\n\", h_output[0]);\n",
        "    printf(\"Sum using Formula   (Thread 1): %d\\n\", h_output[1]);\n",
        "    printf(\"GPU Kernel Execution Time: %.6f ms\\n\", milliseconds);\n",
        "\n",
        "    // Free device memory\n",
        "    cudaFree(d_input);\n",
        "    cudaFree(d_output);\n",
        "\n",
        "    return 0;\n",
        "}\n"
      ]
    },
    {
      "cell_type": "markdown",
      "source": [
        "Program Compilation---"
      ],
      "metadata": {
        "id": "McMCc3L49gwP"
      }
    },
    {
      "cell_type": "code",
      "source": [
        "!nvcc --gpu-architecture=sm_70 sumofn.cu -o sumofn"
      ],
      "metadata": {
        "id": "POu_Vy1w9UDD"
      },
      "execution_count": 2,
      "outputs": []
    },
    {
      "cell_type": "markdown",
      "source": [
        "Program Execution---"
      ],
      "metadata": {
        "id": "ELfGNK1j9oou"
      }
    },
    {
      "cell_type": "code",
      "source": [
        "!./sumofn"
      ],
      "metadata": {
        "id": "Wd9w-n_89UAg",
        "colab": {
          "base_uri": "https://localhost:8080/"
        },
        "outputId": "19846038-6102-4e7f-9ab5-35acf3f6540e"
      },
      "execution_count": 3,
      "outputs": [
        {
          "output_type": "stream",
          "name": "stdout",
          "text": [
            "Sum using Iteration (Thread 0): 523776\n",
            "Sum using Formula   (Thread 1): 523776\n",
            "GPU Kernel Execution Time: 0.147424 ms\n"
          ]
        }
      ]
    },
    {
      "cell_type": "markdown",
      "source": [
        "#Program 2(a)"
      ],
      "metadata": {
        "id": "v6UM0ce49wZF"
      }
    },
    {
      "cell_type": "code",
      "source": [
        "%%writefile pipelined_merge_sort.c\n",
        "#include <stdio.h>\n",
        "#include <stdlib.h>\n",
        "#include <time.h>\n",
        "\n",
        "#define N 1000  // Size of the array to be sorted\n",
        "\n",
        "// Merge two sorted subarrays into one\n",
        "void merge(int arr[], int l, int m, int r) {\n",
        "    int i, j, k;\n",
        "    int n1 = m - l + 1;  // Length of left subarray\n",
        "    int n2 = r - m;      // Length of right subarray\n",
        "\n",
        "    // Temporary arrays\n",
        "    int *L = (int *)malloc(n1 * sizeof(int));\n",
        "    int *R = (int *)malloc(n2 * sizeof(int));\n",
        "\n",
        "    // Copy data to temp arrays\n",
        "    for (i = 0; i < n1; i++) L[i] = arr[l + i];\n",
        "    for (j = 0; j < n2; j++) R[j] = arr[m + 1 + j];\n",
        "\n",
        "    i = j = 0;\n",
        "    k = l;\n",
        "\n",
        "    // Merge L and R back into arr\n",
        "    while (i < n1 && j < n2)\n",
        "        arr[k++] = (L[i] <= R[j]) ? L[i++] : R[j++];\n",
        "\n",
        "    // Copy remaining elements\n",
        "    while (i < n1) arr[k++] = L[i++];\n",
        "    while (j < n2) arr[k++] = R[j++];\n",
        "\n",
        "    // Free temporary arrays\n",
        "    free(L);\n",
        "    free(R);\n",
        "}\n",
        "\n",
        "// Recursive merge sort\n",
        "void mergeSort(int arr[], int l, int r) {\n",
        "    if (l < r) {\n",
        "        int m = l + (r - l) / 2;  // Midpoint\n",
        "        mergeSort(arr, l, m);     // Sort left half\n",
        "        mergeSort(arr, m + 1, r); // Sort right half\n",
        "        merge(arr, l, m, r);      // Merge halves\n",
        "    }\n",
        "}\n",
        "\n",
        "int main() {\n",
        "    int arr[N];\n",
        "\n",
        "    // Fill array with random numbers between 0 and 999\n",
        "    for (int i = 0; i < N; i++)\n",
        "        arr[i] = rand() % 1000;\n",
        "\n",
        "    // Record start time\n",
        "    clock_t start = clock();\n",
        "\n",
        "    // Perform merge sort\n",
        "    mergeSort(arr, 0, N - 1);\n",
        "\n",
        "    // Record end time\n",
        "    clock_t end = clock();\n",
        "\n",
        "    // Calculate elapsed time in milliseconds\n",
        "    double time_taken = ((double)(end - start)) / CLOCKS_PER_SEC * 1000.0;\n",
        "\n",
        "    // Print first 10 elements of the sorted array\n",
        "    printf(\"Sorted array (first 10):\\n\");\n",
        "    for (int i = 0; i < 10; i++)\n",
        "        printf(\"%d \", arr[i]);\n",
        "    printf(\"\\nCPU Execution Time: %.4f ms\\n\", time_taken);\n",
        "\n",
        "    return 0;\n",
        "}\n"
      ],
      "metadata": {
        "id": "KZccGn9u9T-K",
        "colab": {
          "base_uri": "https://localhost:8080/"
        },
        "outputId": "19cd93e6-a6b1-48f2-8156-6144bf737080"
      },
      "execution_count": 4,
      "outputs": [
        {
          "output_type": "stream",
          "name": "stdout",
          "text": [
            "Writing pipelined_merge_sort.c\n"
          ]
        }
      ]
    },
    {
      "cell_type": "markdown",
      "source": [
        "Program Compilation---"
      ],
      "metadata": {
        "id": "zJCsjxsY-FBu"
      }
    },
    {
      "cell_type": "code",
      "source": [
        "!nvcc --gpu-architecture=sm_70 pipelined_merge_sort.c -o pipelined_merge_sort"
      ],
      "metadata": {
        "id": "sfX7Tp9y954z"
      },
      "execution_count": 5,
      "outputs": []
    },
    {
      "cell_type": "markdown",
      "source": [
        "Porgram Execution---"
      ],
      "metadata": {
        "id": "C__kWwTp96hs"
      }
    },
    {
      "cell_type": "code",
      "source": [
        "!./pipelined_merge_sort"
      ],
      "metadata": {
        "colab": {
          "base_uri": "https://localhost:8080/"
        },
        "id": "2IWViEaV97_l",
        "outputId": "585c2262-e780-42c7-e322-93e417408ede"
      },
      "execution_count": 6,
      "outputs": [
        {
          "output_type": "stream",
          "name": "stdout",
          "text": [
            "Sorted array (first 10):\n",
            "0 0 2 2 4 6 8 9 10 11 \n",
            "CPU Execution Time: 0.2030 ms\n"
          ]
        }
      ]
    },
    {
      "cell_type": "markdown",
      "source": [
        "#Program 2(b)"
      ],
      "metadata": {
        "id": "I5W3QlHLQjLw"
      }
    },
    {
      "cell_type": "code",
      "source": [
        "%%writefile cuda_merge_sort.cu\n",
        "#include <stdio.h>\n",
        "#include <stdlib.h>\n",
        "#include <cuda.h>\n",
        "#include <time.h>\n",
        "\n",
        "#define N 1000  // Number of elements to sort\n",
        "\n",
        "// Merge function for device - merges two sorted halves\n",
        "__device__ void merge(int *arr, int l, int m, int r, int *temp) {\n",
        "    int i = l, j = m + 1, k = l;\n",
        "\n",
        "    // Merge elements into temp array\n",
        "    while (i <= m && j <= r)\n",
        "        temp[k++] = (arr[i] <= arr[j]) ? arr[i++] : arr[j++];\n",
        "\n",
        "    // Copy remaining elements (if any)\n",
        "    while (i <= m) temp[k++] = arr[i++];\n",
        "    while (j <= r) temp[k++] = arr[j++];\n",
        "\n",
        "    // Copy back from temp to original array\n",
        "    for (i = l; i <= r; i++) arr[i] = temp[i];\n",
        "}\n",
        "\n",
        "// CUDA kernel to merge pairs of subarrays of given width\n",
        "__global__ void mergeSortKernel(int *d_arr, int *d_temp, int width) {\n",
        "    int tid = blockIdx.x * blockDim.x + threadIdx.x;\n",
        "    int left = tid * (2 * width);           // Start index of subarray\n",
        "    int mid = left + width - 1;             // Middle index\n",
        "    int right = left + 2 * width - 1;       // End index\n",
        "\n",
        "    if (right < N)\n",
        "        merge(d_arr, left, mid, right, d_temp);\n",
        "    else if (mid < N)\n",
        "        merge(d_arr, left, mid, N - 1, d_temp);\n",
        "}\n",
        "\n",
        "// Utility to check CUDA errors\n",
        "void checkCuda(cudaError_t err, const char *msg) {\n",
        "    if (err != cudaSuccess) {\n",
        "        printf(\"CUDA error at %s: %s\\n\", msg, cudaGetErrorString(err));\n",
        "        exit(-1);\n",
        "    }\n",
        "}\n",
        "\n",
        "int main() {\n",
        "    int *h_arr = (int*)malloc(N * sizeof(int));  // Host array\n",
        "    int *d_arr, *d_temp;                         // Device arrays\n",
        "\n",
        "    // Fill host array with random integers\n",
        "    for (int i = 0; i < N; i++) h_arr[i] = rand() % 1000;\n",
        "\n",
        "    // Allocate memory on device\n",
        "    checkCuda(cudaMalloc(&d_arr, N * sizeof(int)), \"cudaMalloc d_arr\");\n",
        "    checkCuda(cudaMalloc(&d_temp, N * sizeof(int)), \"cudaMalloc d_temp\");\n",
        "\n",
        "    // Copy host array to device\n",
        "    checkCuda(cudaMemcpy(d_arr, h_arr, N * sizeof(int), cudaMemcpyHostToDevice), \"cudaMemcpy H2D\");\n",
        "\n",
        "    // Create CUDA events for timing\n",
        "    cudaEvent_t start, stop;\n",
        "    cudaEventCreate(&start);\n",
        "    cudaEventCreate(&stop);\n",
        "    cudaEventRecord(start);  // Start timing\n",
        "\n",
        "    // Launch merge sort kernel iteratively increasing width\n",
        "    for (int width = 1; width < N; width *= 2) {\n",
        "        int numThreads = (N + (2 * width - 1)) / (2 * width);\n",
        "        mergeSortKernel<<<(numThreads + 255)/256, 256>>>(d_arr, d_temp, width);\n",
        "        checkCuda(cudaGetLastError(), \"Kernel\");\n",
        "        checkCuda(cudaDeviceSynchronize(), \"Sync\");\n",
        "    }\n",
        "\n",
        "    cudaEventRecord(stop);\n",
        "    cudaEventSynchronize(stop);  // Stop timing\n",
        "\n",
        "    // Get elapsed time in ms\n",
        "    float ms;\n",
        "    cudaEventElapsedTime(&ms, start, stop);\n",
        "\n",
        "    // Copy sorted array back to host\n",
        "    checkCuda(cudaMemcpy(h_arr, d_arr, N * sizeof(int), cudaMemcpyDeviceToHost), \"Memcpy D2H\");\n",
        "\n",
        "    // Print first 10 sorted values\n",
        "    printf(\"Sorted array (first 10):\\n\");\n",
        "    for (int i = 0; i < 10; i++) printf(\"%d \", h_arr[i]);\n",
        "    printf(\"\\nExecution time (GPU): %.4f ms\\n\", ms);\n",
        "\n",
        "    // Free memory\n",
        "    cudaFree(d_arr);\n",
        "    cudaFree(d_temp);\n",
        "    free(h_arr);\n",
        "\n",
        "    return 0;\n",
        "}\n"
      ],
      "metadata": {
        "colab": {
          "base_uri": "https://localhost:8080/"
        },
        "id": "IedrVrEKQhRt",
        "outputId": "a6305d5f-3765-435c-a0d1-fc74e3121402"
      },
      "execution_count": 7,
      "outputs": [
        {
          "output_type": "stream",
          "name": "stdout",
          "text": [
            "Writing cuda_merge_sort.cu\n"
          ]
        }
      ]
    },
    {
      "cell_type": "markdown",
      "source": [
        "Program Compilation---"
      ],
      "metadata": {
        "id": "C6olHgw5Re3t"
      }
    },
    {
      "cell_type": "code",
      "source": [
        "!nvcc --gpu-architecture=sm_70 cuda_merge_sort.cu -o cuda_merge_sort"
      ],
      "metadata": {
        "id": "vxLhCnoFQPuQ"
      },
      "execution_count": 8,
      "outputs": []
    },
    {
      "cell_type": "markdown",
      "source": [
        "Program Execution---"
      ],
      "metadata": {
        "id": "G3aXs2FMRhRC"
      }
    },
    {
      "cell_type": "code",
      "source": [
        "!./cuda_merge_sort"
      ],
      "metadata": {
        "colab": {
          "base_uri": "https://localhost:8080/"
        },
        "id": "yXAEx_wvQPrY",
        "outputId": "b9349cd5-ab3f-4550-d84c-32e586119f1b"
      },
      "execution_count": 9,
      "outputs": [
        {
          "output_type": "stream",
          "name": "stdout",
          "text": [
            "Sorted array (first 10):\n",
            "0 0 2 2 4 6 8 9 10 11 \n",
            "Execution time (GPU): 1.2908 ms\n"
          ]
        }
      ]
    }
  ]
}